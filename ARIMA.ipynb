{
 "cells": [
  {
   "cell_type": "code",
   "execution_count": 1,
   "metadata": {},
   "outputs": [],
   "source": [
    "import numpy as np\n",
    "import matplotlib.pyplot as plt\n",
    "import pandas as pd\n",
    "import seaborn as sns"
   ]
  },
  {
   "cell_type": "code",
   "execution_count": 2,
   "metadata": {},
   "outputs": [
    {
     "data": {
      "text/html": [
       "<div>\n",
       "<style scoped>\n",
       "    .dataframe tbody tr th:only-of-type {\n",
       "        vertical-align: middle;\n",
       "    }\n",
       "\n",
       "    .dataframe tbody tr th {\n",
       "        vertical-align: top;\n",
       "    }\n",
       "\n",
       "    .dataframe thead th {\n",
       "        text-align: right;\n",
       "    }\n",
       "</style>\n",
       "<table border=\"1\" class=\"dataframe\">\n",
       "  <thead>\n",
       "    <tr style=\"text-align: right;\">\n",
       "      <th></th>\n",
       "      <th>id</th>\n",
       "      <th>epoch</th>\n",
       "      <th>sat_id</th>\n",
       "      <th>x</th>\n",
       "      <th>y</th>\n",
       "      <th>z</th>\n",
       "      <th>Vx</th>\n",
       "      <th>Vy</th>\n",
       "      <th>Vz</th>\n",
       "      <th>x_sim</th>\n",
       "      <th>y_sim</th>\n",
       "      <th>z_sim</th>\n",
       "      <th>Vx_sim</th>\n",
       "      <th>Vy_sim</th>\n",
       "      <th>Vz_sim</th>\n",
       "    </tr>\n",
       "  </thead>\n",
       "  <tbody>\n",
       "    <tr>\n",
       "      <th>0</th>\n",
       "      <td>0</td>\n",
       "      <td>2014-01-01 00:00:00.000</td>\n",
       "      <td>0</td>\n",
       "      <td>-8855.823863</td>\n",
       "      <td>13117.780146</td>\n",
       "      <td>-20728.353233</td>\n",
       "      <td>-0.908303</td>\n",
       "      <td>-3.808436</td>\n",
       "      <td>-2.022083</td>\n",
       "      <td>-8843.131454</td>\n",
       "      <td>13138.221690</td>\n",
       "      <td>-20741.615306</td>\n",
       "      <td>-0.907527</td>\n",
       "      <td>-3.804930</td>\n",
       "      <td>-2.024133</td>\n",
       "    </tr>\n",
       "    <tr>\n",
       "      <th>1</th>\n",
       "      <td>1</td>\n",
       "      <td>2014-01-01 00:46:43.000</td>\n",
       "      <td>0</td>\n",
       "      <td>-10567.672384</td>\n",
       "      <td>1619.746066</td>\n",
       "      <td>-24451.813271</td>\n",
       "      <td>-0.302590</td>\n",
       "      <td>-4.272617</td>\n",
       "      <td>-0.612796</td>\n",
       "      <td>-10555.500066</td>\n",
       "      <td>1649.289367</td>\n",
       "      <td>-24473.089556</td>\n",
       "      <td>-0.303704</td>\n",
       "      <td>-4.269816</td>\n",
       "      <td>-0.616468</td>\n",
       "    </tr>\n",
       "    <tr>\n",
       "      <th>2</th>\n",
       "      <td>2</td>\n",
       "      <td>2014-01-01 01:33:26.001</td>\n",
       "      <td>0</td>\n",
       "      <td>-10578.684043</td>\n",
       "      <td>-10180.467460</td>\n",
       "      <td>-24238.280949</td>\n",
       "      <td>0.277435</td>\n",
       "      <td>-4.047522</td>\n",
       "      <td>0.723155</td>\n",
       "      <td>-10571.858472</td>\n",
       "      <td>-10145.939908</td>\n",
       "      <td>-24271.169776</td>\n",
       "      <td>0.274880</td>\n",
       "      <td>-4.046788</td>\n",
       "      <td>0.718768</td>\n",
       "    </tr>\n",
       "    <tr>\n",
       "      <th>3</th>\n",
       "      <td>3</td>\n",
       "      <td>2014-01-01 02:20:09.001</td>\n",
       "      <td>0</td>\n",
       "      <td>-9148.251857</td>\n",
       "      <td>-20651.437460</td>\n",
       "      <td>-20720.381279</td>\n",
       "      <td>0.715600</td>\n",
       "      <td>-3.373762</td>\n",
       "      <td>1.722115</td>\n",
       "      <td>-9149.620794</td>\n",
       "      <td>-20618.200201</td>\n",
       "      <td>-20765.019094</td>\n",
       "      <td>0.712437</td>\n",
       "      <td>-3.375202</td>\n",
       "      <td>1.718306</td>\n",
       "    </tr>\n",
       "    <tr>\n",
       "      <th>4</th>\n",
       "      <td>4</td>\n",
       "      <td>2014-01-01 03:06:52.002</td>\n",
       "      <td>0</td>\n",
       "      <td>-6719.092336</td>\n",
       "      <td>-28929.061629</td>\n",
       "      <td>-14938.907967</td>\n",
       "      <td>0.992507</td>\n",
       "      <td>-2.519732</td>\n",
       "      <td>2.344703</td>\n",
       "      <td>-6729.358857</td>\n",
       "      <td>-28902.271436</td>\n",
       "      <td>-14992.399986</td>\n",
       "      <td>0.989382</td>\n",
       "      <td>-2.522618</td>\n",
       "      <td>2.342237</td>\n",
       "    </tr>\n",
       "  </tbody>\n",
       "</table>\n",
       "</div>"
      ],
      "text/plain": [
       "   id                    epoch  sat_id             x             y  \\\n",
       "0   0  2014-01-01 00:00:00.000       0  -8855.823863  13117.780146   \n",
       "1   1  2014-01-01 00:46:43.000       0 -10567.672384   1619.746066   \n",
       "2   2  2014-01-01 01:33:26.001       0 -10578.684043 -10180.467460   \n",
       "3   3  2014-01-01 02:20:09.001       0  -9148.251857 -20651.437460   \n",
       "4   4  2014-01-01 03:06:52.002       0  -6719.092336 -28929.061629   \n",
       "\n",
       "              z        Vx        Vy        Vz         x_sim         y_sim  \\\n",
       "0 -20728.353233 -0.908303 -3.808436 -2.022083  -8843.131454  13138.221690   \n",
       "1 -24451.813271 -0.302590 -4.272617 -0.612796 -10555.500066   1649.289367   \n",
       "2 -24238.280949  0.277435 -4.047522  0.723155 -10571.858472 -10145.939908   \n",
       "3 -20720.381279  0.715600 -3.373762  1.722115  -9149.620794 -20618.200201   \n",
       "4 -14938.907967  0.992507 -2.519732  2.344703  -6729.358857 -28902.271436   \n",
       "\n",
       "          z_sim    Vx_sim    Vy_sim    Vz_sim  \n",
       "0 -20741.615306 -0.907527 -3.804930 -2.024133  \n",
       "1 -24473.089556 -0.303704 -4.269816 -0.616468  \n",
       "2 -24271.169776  0.274880 -4.046788  0.718768  \n",
       "3 -20765.019094  0.712437 -3.375202  1.718306  \n",
       "4 -14992.399986  0.989382 -2.522618  2.342237  "
      ]
     },
     "execution_count": 2,
     "metadata": {},
     "output_type": "execute_result"
    }
   ],
   "source": [
    "meta_df = pd.read_csv(\"jan_train.csv\")\n",
    "meta_df.head()"
   ]
  },
  {
   "cell_type": "code",
   "execution_count": 3,
   "metadata": {},
   "outputs": [
    {
     "data": {
      "text/plain": [
       "15"
      ]
     },
     "execution_count": 3,
     "metadata": {},
     "output_type": "execute_result"
    }
   ],
   "source": [
    "len(meta_df.columns)"
   ]
  },
  {
   "cell_type": "code",
   "execution_count": 4,
   "metadata": {},
   "outputs": [
    {
     "data": {
      "text/plain": [
       "(503227, 15)"
      ]
     },
     "execution_count": 4,
     "metadata": {},
     "output_type": "execute_result"
    }
   ],
   "source": [
    "meta_df.shape"
   ]
  },
  {
   "cell_type": "code",
   "execution_count": 5,
   "metadata": {},
   "outputs": [
    {
     "data": {
      "text/plain": [
       "array([  0,   1,   2,   3,   4,   5,   6,   7,   8,   9,  10,  11,  12,\n",
       "        13,  14,  15,  16,  17,  18,  19,  20,  21,  22,  23,  24,  25,\n",
       "        26,  27,  28,  29,  30,  31,  32,  33,  34,  35,  36,  37,  38,\n",
       "        39,  40,  41,  42,  43,  44,  45,  46,  47,  48,  49,  50,  51,\n",
       "        52,  53,  54,  55,  56,  57,  58,  59,  60,  61,  62,  63,  64,\n",
       "        65,  66,  67,  68,  69,  70,  71,  72,  73,  74,  75,  76,  77,\n",
       "        78,  79,  80,  81,  82,  83,  84,  85,  86,  87,  88,  89,  90,\n",
       "        91,  92,  93,  94,  95,  96,  97,  98,  99, 100, 101, 102, 103,\n",
       "       104, 105, 106, 107, 108, 109, 110, 111, 112, 113, 114, 115, 116,\n",
       "       117, 118, 119, 120, 121, 122, 123, 124, 125, 126, 127, 128, 129,\n",
       "       130, 131, 132, 133, 134, 135, 136, 137, 138, 139, 140, 141, 142,\n",
       "       143, 144, 145, 146, 147, 148, 149, 150, 151, 152, 153, 154, 155,\n",
       "       156, 157, 158, 159, 160, 161, 162, 163, 164, 165, 166, 167, 168,\n",
       "       169, 170, 171, 172, 173, 174, 175, 176, 177, 178, 179, 180, 181,\n",
       "       182, 183, 184, 185, 186, 187, 188, 189, 190, 191, 192, 193, 194,\n",
       "       195, 196, 197, 198, 199, 200, 201, 202, 203, 204, 205, 206, 207,\n",
       "       208, 209, 210, 211, 212, 213, 214, 215, 216, 217, 218, 219, 220,\n",
       "       221, 222, 223, 224, 225, 226, 227, 228, 229, 230, 231, 232, 233,\n",
       "       234, 235, 236, 237, 238, 239, 240, 241, 242, 243, 244, 245, 246,\n",
       "       247, 248, 249, 250, 251, 252, 253, 254, 255, 256, 257, 258, 259,\n",
       "       260, 261, 262, 263, 264, 265, 266, 267, 268, 269, 270, 271, 272,\n",
       "       273, 274, 275, 276, 277, 278, 279, 280, 281, 282, 283, 284, 285,\n",
       "       286, 287, 288, 289, 290, 291, 292, 293, 294, 295, 296, 297, 298,\n",
       "       299, 300, 301, 302, 303, 304, 305, 306, 307, 308, 309, 310, 311,\n",
       "       312, 313, 314, 315, 316, 317, 318, 319, 320, 321, 322, 323, 324,\n",
       "       325, 326, 327, 328, 329, 330, 331, 332, 333, 334, 335, 336, 337,\n",
       "       338, 339, 340, 341, 342, 343, 344, 345, 346, 347, 348, 349, 350,\n",
       "       351, 352, 353, 354, 355, 356, 357, 358, 359, 360, 361, 362, 363,\n",
       "       364, 365, 366, 367, 368, 369, 370, 371, 372, 373, 374, 375, 376,\n",
       "       377, 378, 379, 380, 381, 382, 383, 384, 385, 386, 387, 388, 389,\n",
       "       390, 391, 392, 393, 394, 395, 396, 397, 398, 399, 400, 401, 402,\n",
       "       403, 404, 405, 406, 407, 408, 409, 410, 411, 412, 413, 414, 415,\n",
       "       416, 417, 418, 419, 420, 421, 422, 423, 424, 425, 426, 427, 428,\n",
       "       429, 430, 431, 432, 433, 434, 435, 436, 437, 438, 439, 440, 441,\n",
       "       442, 443, 444, 445, 446, 447, 448, 449, 450, 451, 452, 453, 454,\n",
       "       455, 456, 457, 458, 459, 460, 461, 462, 463, 464, 465, 466, 467,\n",
       "       468, 469, 470, 471, 472, 473, 474, 475, 476, 477, 478, 479, 480,\n",
       "       481, 482, 483, 484, 485, 486, 487, 488, 489, 490, 491, 492, 493,\n",
       "       494, 495, 496, 497, 498, 499, 500, 501, 502, 503, 504, 505, 506,\n",
       "       507, 508, 509, 510, 511, 512, 513, 514, 515, 516, 517, 518, 519,\n",
       "       520, 521, 522, 523, 524, 525, 526, 527, 528, 529, 530, 531, 532,\n",
       "       533, 534, 535, 536, 537, 538, 539, 540, 541, 542, 543, 544, 545,\n",
       "       546, 547, 548, 549, 550, 551, 552, 553, 554, 555, 556, 557, 558,\n",
       "       559, 560, 561, 562, 563, 564, 565, 566, 567, 568, 569, 570, 571,\n",
       "       572, 573, 574, 575, 576, 577, 578, 579, 580, 581, 582, 583, 584,\n",
       "       585, 586, 587, 588, 589, 590, 591, 592, 593, 594, 595, 596, 597,\n",
       "       598, 599], dtype=int64)"
      ]
     },
     "execution_count": 5,
     "metadata": {},
     "output_type": "execute_result"
    }
   ],
   "source": [
    "meta_df['sat_id'].unique()"
   ]
  },
  {
   "cell_type": "code",
   "execution_count": 6,
   "metadata": {},
   "outputs": [
    {
     "name": "stdout",
     "output_type": "stream",
     "text": [
      "<class 'pandas.core.frame.DataFrame'>\n",
      "RangeIndex: 503227 entries, 0 to 503226\n",
      "Data columns (total 15 columns):\n",
      " #   Column  Non-Null Count   Dtype  \n",
      "---  ------  --------------   -----  \n",
      " 0   id      503227 non-null  int64  \n",
      " 1   epoch   503227 non-null  object \n",
      " 2   sat_id  503227 non-null  int64  \n",
      " 3   x       503227 non-null  float64\n",
      " 4   y       503227 non-null  float64\n",
      " 5   z       503227 non-null  float64\n",
      " 6   Vx      503227 non-null  float64\n",
      " 7   Vy      503227 non-null  float64\n",
      " 8   Vz      503227 non-null  float64\n",
      " 9   x_sim   503227 non-null  float64\n",
      " 10  y_sim   503227 non-null  float64\n",
      " 11  z_sim   503227 non-null  float64\n",
      " 12  Vx_sim  503227 non-null  float64\n",
      " 13  Vy_sim  503227 non-null  float64\n",
      " 14  Vz_sim  503227 non-null  float64\n",
      "dtypes: float64(12), int64(2), object(1)\n",
      "memory usage: 57.6+ MB\n"
     ]
    }
   ],
   "source": [
    "meta_df.info()"
   ]
  },
  {
   "cell_type": "markdown",
   "metadata": {},
   "source": [
    "# Analysis for SAT-0"
   ]
  },
  {
   "cell_type": "code",
   "execution_count": 7,
   "metadata": {},
   "outputs": [],
   "source": [
    "filt = (meta_df[\"sat_id\"]==0)"
   ]
  },
  {
   "cell_type": "code",
   "execution_count": 8,
   "metadata": {},
   "outputs": [
    {
     "data": {
      "text/plain": [
       "0          True\n",
       "1          True\n",
       "2          True\n",
       "3          True\n",
       "4          True\n",
       "          ...  \n",
       "503222    False\n",
       "503223    False\n",
       "503224    False\n",
       "503225    False\n",
       "503226    False\n",
       "Name: sat_id, Length: 503227, dtype: bool"
      ]
     },
     "execution_count": 8,
     "metadata": {},
     "output_type": "execute_result"
    }
   ],
   "source": [
    "filt"
   ]
  },
  {
   "cell_type": "code",
   "execution_count": 9,
   "metadata": {},
   "outputs": [],
   "source": [
    "sat0_df = meta_df.loc[filt]"
   ]
  },
  {
   "cell_type": "code",
   "execution_count": 10,
   "metadata": {},
   "outputs": [
    {
     "data": {
      "text/html": [
       "<div>\n",
       "<style scoped>\n",
       "    .dataframe tbody tr th:only-of-type {\n",
       "        vertical-align: middle;\n",
       "    }\n",
       "\n",
       "    .dataframe tbody tr th {\n",
       "        vertical-align: top;\n",
       "    }\n",
       "\n",
       "    .dataframe thead th {\n",
       "        text-align: right;\n",
       "    }\n",
       "</style>\n",
       "<table border=\"1\" class=\"dataframe\">\n",
       "  <thead>\n",
       "    <tr style=\"text-align: right;\">\n",
       "      <th></th>\n",
       "      <th>id</th>\n",
       "      <th>epoch</th>\n",
       "      <th>sat_id</th>\n",
       "      <th>x</th>\n",
       "      <th>y</th>\n",
       "      <th>z</th>\n",
       "      <th>Vx</th>\n",
       "      <th>Vy</th>\n",
       "      <th>Vz</th>\n",
       "      <th>x_sim</th>\n",
       "      <th>y_sim</th>\n",
       "      <th>z_sim</th>\n",
       "      <th>Vx_sim</th>\n",
       "      <th>Vy_sim</th>\n",
       "      <th>Vz_sim</th>\n",
       "    </tr>\n",
       "  </thead>\n",
       "  <tbody>\n",
       "    <tr>\n",
       "      <th>0</th>\n",
       "      <td>0</td>\n",
       "      <td>2014-01-01 00:00:00.000</td>\n",
       "      <td>0</td>\n",
       "      <td>-8855.823863</td>\n",
       "      <td>13117.780146</td>\n",
       "      <td>-20728.353233</td>\n",
       "      <td>-0.908303</td>\n",
       "      <td>-3.808436</td>\n",
       "      <td>-2.022083</td>\n",
       "      <td>-8843.131454</td>\n",
       "      <td>13138.221690</td>\n",
       "      <td>-20741.615306</td>\n",
       "      <td>-0.907527</td>\n",
       "      <td>-3.804930</td>\n",
       "      <td>-2.024133</td>\n",
       "    </tr>\n",
       "    <tr>\n",
       "      <th>1</th>\n",
       "      <td>1</td>\n",
       "      <td>2014-01-01 00:46:43.000</td>\n",
       "      <td>0</td>\n",
       "      <td>-10567.672384</td>\n",
       "      <td>1619.746066</td>\n",
       "      <td>-24451.813271</td>\n",
       "      <td>-0.302590</td>\n",
       "      <td>-4.272617</td>\n",
       "      <td>-0.612796</td>\n",
       "      <td>-10555.500066</td>\n",
       "      <td>1649.289367</td>\n",
       "      <td>-24473.089556</td>\n",
       "      <td>-0.303704</td>\n",
       "      <td>-4.269816</td>\n",
       "      <td>-0.616468</td>\n",
       "    </tr>\n",
       "    <tr>\n",
       "      <th>2</th>\n",
       "      <td>2</td>\n",
       "      <td>2014-01-01 01:33:26.001</td>\n",
       "      <td>0</td>\n",
       "      <td>-10578.684043</td>\n",
       "      <td>-10180.467460</td>\n",
       "      <td>-24238.280949</td>\n",
       "      <td>0.277435</td>\n",
       "      <td>-4.047522</td>\n",
       "      <td>0.723155</td>\n",
       "      <td>-10571.858472</td>\n",
       "      <td>-10145.939908</td>\n",
       "      <td>-24271.169776</td>\n",
       "      <td>0.274880</td>\n",
       "      <td>-4.046788</td>\n",
       "      <td>0.718768</td>\n",
       "    </tr>\n",
       "    <tr>\n",
       "      <th>3</th>\n",
       "      <td>3</td>\n",
       "      <td>2014-01-01 02:20:09.001</td>\n",
       "      <td>0</td>\n",
       "      <td>-9148.251857</td>\n",
       "      <td>-20651.437460</td>\n",
       "      <td>-20720.381279</td>\n",
       "      <td>0.715600</td>\n",
       "      <td>-3.373762</td>\n",
       "      <td>1.722115</td>\n",
       "      <td>-9149.620794</td>\n",
       "      <td>-20618.200201</td>\n",
       "      <td>-20765.019094</td>\n",
       "      <td>0.712437</td>\n",
       "      <td>-3.375202</td>\n",
       "      <td>1.718306</td>\n",
       "    </tr>\n",
       "    <tr>\n",
       "      <th>4</th>\n",
       "      <td>4</td>\n",
       "      <td>2014-01-01 03:06:52.002</td>\n",
       "      <td>0</td>\n",
       "      <td>-6719.092336</td>\n",
       "      <td>-28929.061629</td>\n",
       "      <td>-14938.907967</td>\n",
       "      <td>0.992507</td>\n",
       "      <td>-2.519732</td>\n",
       "      <td>2.344703</td>\n",
       "      <td>-6729.358857</td>\n",
       "      <td>-28902.271436</td>\n",
       "      <td>-14992.399986</td>\n",
       "      <td>0.989382</td>\n",
       "      <td>-2.522618</td>\n",
       "      <td>2.342237</td>\n",
       "    </tr>\n",
       "  </tbody>\n",
       "</table>\n",
       "</div>"
      ],
      "text/plain": [
       "   id                    epoch  sat_id             x             y  \\\n",
       "0   0  2014-01-01 00:00:00.000       0  -8855.823863  13117.780146   \n",
       "1   1  2014-01-01 00:46:43.000       0 -10567.672384   1619.746066   \n",
       "2   2  2014-01-01 01:33:26.001       0 -10578.684043 -10180.467460   \n",
       "3   3  2014-01-01 02:20:09.001       0  -9148.251857 -20651.437460   \n",
       "4   4  2014-01-01 03:06:52.002       0  -6719.092336 -28929.061629   \n",
       "\n",
       "              z        Vx        Vy        Vz         x_sim         y_sim  \\\n",
       "0 -20728.353233 -0.908303 -3.808436 -2.022083  -8843.131454  13138.221690   \n",
       "1 -24451.813271 -0.302590 -4.272617 -0.612796 -10555.500066   1649.289367   \n",
       "2 -24238.280949  0.277435 -4.047522  0.723155 -10571.858472 -10145.939908   \n",
       "3 -20720.381279  0.715600 -3.373762  1.722115  -9149.620794 -20618.200201   \n",
       "4 -14938.907967  0.992507 -2.519732  2.344703  -6729.358857 -28902.271436   \n",
       "\n",
       "          z_sim    Vx_sim    Vy_sim    Vz_sim  \n",
       "0 -20741.615306 -0.907527 -3.804930 -2.024133  \n",
       "1 -24473.089556 -0.303704 -4.269816 -0.616468  \n",
       "2 -24271.169776  0.274880 -4.046788  0.718768  \n",
       "3 -20765.019094  0.712437 -3.375202  1.718306  \n",
       "4 -14992.399986  0.989382 -2.522618  2.342237  "
      ]
     },
     "execution_count": 10,
     "metadata": {},
     "output_type": "execute_result"
    }
   ],
   "source": [
    "sat0_df.head()"
   ]
  },
  {
   "cell_type": "code",
   "execution_count": 11,
   "metadata": {},
   "outputs": [
    {
     "data": {
      "text/html": [
       "<div>\n",
       "<style scoped>\n",
       "    .dataframe tbody tr th:only-of-type {\n",
       "        vertical-align: middle;\n",
       "    }\n",
       "\n",
       "    .dataframe tbody tr th {\n",
       "        vertical-align: top;\n",
       "    }\n",
       "\n",
       "    .dataframe thead th {\n",
       "        text-align: right;\n",
       "    }\n",
       "</style>\n",
       "<table border=\"1\" class=\"dataframe\">\n",
       "  <thead>\n",
       "    <tr style=\"text-align: right;\">\n",
       "      <th></th>\n",
       "      <th>id</th>\n",
       "      <th>epoch</th>\n",
       "      <th>sat_id</th>\n",
       "      <th>x</th>\n",
       "      <th>y</th>\n",
       "      <th>z</th>\n",
       "      <th>Vx</th>\n",
       "      <th>Vy</th>\n",
       "      <th>Vz</th>\n",
       "      <th>x_sim</th>\n",
       "      <th>y_sim</th>\n",
       "      <th>z_sim</th>\n",
       "      <th>Vx_sim</th>\n",
       "      <th>Vy_sim</th>\n",
       "      <th>Vz_sim</th>\n",
       "    </tr>\n",
       "  </thead>\n",
       "  <tbody>\n",
       "    <tr>\n",
       "      <th>736</th>\n",
       "      <td>736</td>\n",
       "      <td>2014-01-24 20:16:45.366</td>\n",
       "      <td>0</td>\n",
       "      <td>17323.752275</td>\n",
       "      <td>-2929.599994</td>\n",
       "      <td>40015.054282</td>\n",
       "      <td>-0.066983</td>\n",
       "      <td>2.651528</td>\n",
       "      <td>-0.240019</td>\n",
       "      <td>16677.210531</td>\n",
       "      <td>5234.016160</td>\n",
       "      <td>38340.904456</td>\n",
       "      <td>-0.330504</td>\n",
       "      <td>2.634282</td>\n",
       "      <td>-0.848806</td>\n",
       "    </tr>\n",
       "    <tr>\n",
       "      <th>737</th>\n",
       "      <td>737</td>\n",
       "      <td>2014-01-24 21:03:28.366</td>\n",
       "      <td>0</td>\n",
       "      <td>16803.492692</td>\n",
       "      <td>4510.550397</td>\n",
       "      <td>38575.720092</td>\n",
       "      <td>-0.306878</td>\n",
       "      <td>2.639582</td>\n",
       "      <td>-0.792502</td>\n",
       "      <td>15395.263519</td>\n",
       "      <td>12449.405030</td>\n",
       "      <td>35146.024515</td>\n",
       "      <td>-0.586354</td>\n",
       "      <td>2.491844</td>\n",
       "      <td>-1.435062</td>\n",
       "    </tr>\n",
       "    <tr>\n",
       "      <th>738</th>\n",
       "      <td>738</td>\n",
       "      <td>2014-01-24 21:50:11.367</td>\n",
       "      <td>0</td>\n",
       "      <td>15589.464016</td>\n",
       "      <td>11758.599852</td>\n",
       "      <td>35543.718040</td>\n",
       "      <td>-0.561601</td>\n",
       "      <td>2.510341</td>\n",
       "      <td>-1.375365</td>\n",
       "      <td>13380.486475</td>\n",
       "      <td>19062.449796</td>\n",
       "      <td>30278.225301</td>\n",
       "      <td>-0.852275</td>\n",
       "      <td>2.198419</td>\n",
       "      <td>-2.039662</td>\n",
       "    </tr>\n",
       "    <tr>\n",
       "      <th>739</th>\n",
       "      <td>739</td>\n",
       "      <td>2014-01-24 22:36:54.367</td>\n",
       "      <td>0</td>\n",
       "      <td>13644.957424</td>\n",
       "      <td>18446.405418</td>\n",
       "      <td>30846.351215</td>\n",
       "      <td>-0.827062</td>\n",
       "      <td>2.233959</td>\n",
       "      <td>-1.978216</td>\n",
       "      <td>10617.516680</td>\n",
       "      <td>24593.429195</td>\n",
       "      <td>23717.669835</td>\n",
       "      <td>-1.117669</td>\n",
       "      <td>1.711798</td>\n",
       "      <td>-2.636755</td>\n",
       "    </tr>\n",
       "    <tr>\n",
       "      <th>740</th>\n",
       "      <td>740</td>\n",
       "      <td>2014-01-24 23:23:37.368</td>\n",
       "      <td>0</td>\n",
       "      <td>10951.688066</td>\n",
       "      <td>24106.659914</td>\n",
       "      <td>24456.597220</td>\n",
       "      <td>-1.093516</td>\n",
       "      <td>1.769369</td>\n",
       "      <td>-2.577266</td>\n",
       "      <td>7135.816766</td>\n",
       "      <td>28430.515190</td>\n",
       "      <td>15552.366754</td>\n",
       "      <td>-1.359856</td>\n",
       "      <td>0.981096</td>\n",
       "      <td>-3.172296</td>\n",
       "    </tr>\n",
       "  </tbody>\n",
       "</table>\n",
       "</div>"
      ],
      "text/plain": [
       "      id                    epoch  sat_id             x             y  \\\n",
       "736  736  2014-01-24 20:16:45.366       0  17323.752275  -2929.599994   \n",
       "737  737  2014-01-24 21:03:28.366       0  16803.492692   4510.550397   \n",
       "738  738  2014-01-24 21:50:11.367       0  15589.464016  11758.599852   \n",
       "739  739  2014-01-24 22:36:54.367       0  13644.957424  18446.405418   \n",
       "740  740  2014-01-24 23:23:37.368       0  10951.688066  24106.659914   \n",
       "\n",
       "                z        Vx        Vy        Vz         x_sim         y_sim  \\\n",
       "736  40015.054282 -0.066983  2.651528 -0.240019  16677.210531   5234.016160   \n",
       "737  38575.720092 -0.306878  2.639582 -0.792502  15395.263519  12449.405030   \n",
       "738  35543.718040 -0.561601  2.510341 -1.375365  13380.486475  19062.449796   \n",
       "739  30846.351215 -0.827062  2.233959 -1.978216  10617.516680  24593.429195   \n",
       "740  24456.597220 -1.093516  1.769369 -2.577266   7135.816766  28430.515190   \n",
       "\n",
       "            z_sim    Vx_sim    Vy_sim    Vz_sim  \n",
       "736  38340.904456 -0.330504  2.634282 -0.848806  \n",
       "737  35146.024515 -0.586354  2.491844 -1.435062  \n",
       "738  30278.225301 -0.852275  2.198419 -2.039662  \n",
       "739  23717.669835 -1.117669  1.711798 -2.636755  \n",
       "740  15552.366754 -1.359856  0.981096 -3.172296  "
      ]
     },
     "execution_count": 11,
     "metadata": {},
     "output_type": "execute_result"
    }
   ],
   "source": [
    "sat0_df.tail()"
   ]
  },
  {
   "cell_type": "code",
   "execution_count": 12,
   "metadata": {},
   "outputs": [
    {
     "data": {
      "text/html": [
       "<div>\n",
       "<style scoped>\n",
       "    .dataframe tbody tr th:only-of-type {\n",
       "        vertical-align: middle;\n",
       "    }\n",
       "\n",
       "    .dataframe tbody tr th {\n",
       "        vertical-align: top;\n",
       "    }\n",
       "\n",
       "    .dataframe thead th {\n",
       "        text-align: right;\n",
       "    }\n",
       "</style>\n",
       "<table border=\"1\" class=\"dataframe\">\n",
       "  <thead>\n",
       "    <tr style=\"text-align: right;\">\n",
       "      <th></th>\n",
       "      <th>id</th>\n",
       "      <th>epoch</th>\n",
       "      <th>sat_id</th>\n",
       "      <th>x</th>\n",
       "      <th>y</th>\n",
       "      <th>z</th>\n",
       "      <th>Vx</th>\n",
       "      <th>Vy</th>\n",
       "      <th>Vz</th>\n",
       "      <th>x_sim</th>\n",
       "      <th>y_sim</th>\n",
       "      <th>z_sim</th>\n",
       "      <th>Vx_sim</th>\n",
       "      <th>Vy_sim</th>\n",
       "      <th>Vz_sim</th>\n",
       "    </tr>\n",
       "  </thead>\n",
       "  <tbody>\n",
       "  </tbody>\n",
       "</table>\n",
       "</div>"
      ],
      "text/plain": [
       "Empty DataFrame\n",
       "Columns: [id, epoch, sat_id, x, y, z, Vx, Vy, Vz, x_sim, y_sim, z_sim, Vx_sim, Vy_sim, Vz_sim]\n",
       "Index: []"
      ]
     },
     "execution_count": 12,
     "metadata": {},
     "output_type": "execute_result"
    }
   ],
   "source": [
    "sat0_df.loc[sat0_df[\"sat_id\"]==1]"
   ]
  },
  {
   "cell_type": "code",
   "execution_count": 13,
   "metadata": {},
   "outputs": [
    {
     "name": "stdout",
     "output_type": "stream",
     "text": [
      "<class 'pandas.core.frame.DataFrame'>\n",
      "Int64Index: 741 entries, 0 to 740\n",
      "Data columns (total 15 columns):\n",
      " #   Column  Non-Null Count  Dtype  \n",
      "---  ------  --------------  -----  \n",
      " 0   id      741 non-null    int64  \n",
      " 1   epoch   741 non-null    object \n",
      " 2   sat_id  741 non-null    int64  \n",
      " 3   x       741 non-null    float64\n",
      " 4   y       741 non-null    float64\n",
      " 5   z       741 non-null    float64\n",
      " 6   Vx      741 non-null    float64\n",
      " 7   Vy      741 non-null    float64\n",
      " 8   Vz      741 non-null    float64\n",
      " 9   x_sim   741 non-null    float64\n",
      " 10  y_sim   741 non-null    float64\n",
      " 11  z_sim   741 non-null    float64\n",
      " 12  Vx_sim  741 non-null    float64\n",
      " 13  Vy_sim  741 non-null    float64\n",
      " 14  Vz_sim  741 non-null    float64\n",
      "dtypes: float64(12), int64(2), object(1)\n",
      "memory usage: 92.6+ KB\n"
     ]
    }
   ],
   "source": [
    "sat0_df.info()"
   ]
  },
  {
   "cell_type": "code",
   "execution_count": 14,
   "metadata": {},
   "outputs": [],
   "source": [
    "sat0_df_univ = sat0_df[[\"epoch\", \"x\"]]"
   ]
  },
  {
   "cell_type": "code",
   "execution_count": 15,
   "metadata": {},
   "outputs": [
    {
     "data": {
      "text/html": [
       "<div>\n",
       "<style scoped>\n",
       "    .dataframe tbody tr th:only-of-type {\n",
       "        vertical-align: middle;\n",
       "    }\n",
       "\n",
       "    .dataframe tbody tr th {\n",
       "        vertical-align: top;\n",
       "    }\n",
       "\n",
       "    .dataframe thead th {\n",
       "        text-align: right;\n",
       "    }\n",
       "</style>\n",
       "<table border=\"1\" class=\"dataframe\">\n",
       "  <thead>\n",
       "    <tr style=\"text-align: right;\">\n",
       "      <th></th>\n",
       "      <th>epoch</th>\n",
       "      <th>x</th>\n",
       "    </tr>\n",
       "  </thead>\n",
       "  <tbody>\n",
       "    <tr>\n",
       "      <th>0</th>\n",
       "      <td>2014-01-01 00:00:00.000</td>\n",
       "      <td>-8855.823863</td>\n",
       "    </tr>\n",
       "    <tr>\n",
       "      <th>1</th>\n",
       "      <td>2014-01-01 00:46:43.000</td>\n",
       "      <td>-10567.672384</td>\n",
       "    </tr>\n",
       "    <tr>\n",
       "      <th>2</th>\n",
       "      <td>2014-01-01 01:33:26.001</td>\n",
       "      <td>-10578.684043</td>\n",
       "    </tr>\n",
       "    <tr>\n",
       "      <th>3</th>\n",
       "      <td>2014-01-01 02:20:09.001</td>\n",
       "      <td>-9148.251857</td>\n",
       "    </tr>\n",
       "    <tr>\n",
       "      <th>4</th>\n",
       "      <td>2014-01-01 03:06:52.002</td>\n",
       "      <td>-6719.092336</td>\n",
       "    </tr>\n",
       "    <tr>\n",
       "      <th>5</th>\n",
       "      <td>2014-01-01 03:53:35.002</td>\n",
       "      <td>-3708.453525</td>\n",
       "    </tr>\n",
       "    <tr>\n",
       "      <th>6</th>\n",
       "      <td>2014-01-01 04:40:18.003</td>\n",
       "      <td>-437.699227</td>\n",
       "    </tr>\n",
       "    <tr>\n",
       "      <th>7</th>\n",
       "      <td>2014-01-01 05:27:01.003</td>\n",
       "      <td>2863.147037</td>\n",
       "    </tr>\n",
       "    <tr>\n",
       "      <th>8</th>\n",
       "      <td>2014-01-01 06:13:44.004</td>\n",
       "      <td>6031.593902</td>\n",
       "    </tr>\n",
       "    <tr>\n",
       "      <th>9</th>\n",
       "      <td>2014-01-01 07:00:27.004</td>\n",
       "      <td>8950.655291</td>\n",
       "    </tr>\n",
       "  </tbody>\n",
       "</table>\n",
       "</div>"
      ],
      "text/plain": [
       "                     epoch             x\n",
       "0  2014-01-01 00:00:00.000  -8855.823863\n",
       "1  2014-01-01 00:46:43.000 -10567.672384\n",
       "2  2014-01-01 01:33:26.001 -10578.684043\n",
       "3  2014-01-01 02:20:09.001  -9148.251857\n",
       "4  2014-01-01 03:06:52.002  -6719.092336\n",
       "5  2014-01-01 03:53:35.002  -3708.453525\n",
       "6  2014-01-01 04:40:18.003   -437.699227\n",
       "7  2014-01-01 05:27:01.003   2863.147037\n",
       "8  2014-01-01 06:13:44.004   6031.593902\n",
       "9  2014-01-01 07:00:27.004   8950.655291"
      ]
     },
     "execution_count": 15,
     "metadata": {},
     "output_type": "execute_result"
    }
   ],
   "source": [
    "sat0_df_univ.head(10)"
   ]
  },
  {
   "cell_type": "code",
   "execution_count": 16,
   "metadata": {},
   "outputs": [
    {
     "name": "stdout",
     "output_type": "stream",
     "text": [
      "<class 'pandas.core.frame.DataFrame'>\n",
      "Int64Index: 741 entries, 0 to 740\n",
      "Data columns (total 2 columns):\n",
      " #   Column  Non-Null Count  Dtype  \n",
      "---  ------  --------------  -----  \n",
      " 0   epoch   741 non-null    object \n",
      " 1   x       741 non-null    float64\n",
      "dtypes: float64(1), object(1)\n",
      "memory usage: 17.4+ KB\n"
     ]
    }
   ],
   "source": [
    "sat0_df_univ.info()"
   ]
  },
  {
   "cell_type": "code",
   "execution_count": 17,
   "metadata": {},
   "outputs": [
    {
     "name": "stderr",
     "output_type": "stream",
     "text": [
      "C:\\Users\\adity\\anaconda3\\envs\\tf\\lib\\site-packages\\ipykernel_launcher.py:1: SettingWithCopyWarning: \n",
      "A value is trying to be set on a copy of a slice from a DataFrame.\n",
      "Try using .loc[row_indexer,col_indexer] = value instead\n",
      "\n",
      "See the caveats in the documentation: https://pandas.pydata.org/pandas-docs/stable/user_guide/indexing.html#returning-a-view-versus-a-copy\n",
      "  \"\"\"Entry point for launching an IPython kernel.\n"
     ]
    }
   ],
   "source": [
    "sat0_df_univ[\"epoch\"] = pd.to_datetime(sat0_df_univ[\"epoch\"])"
   ]
  },
  {
   "cell_type": "code",
   "execution_count": 18,
   "metadata": {},
   "outputs": [
    {
     "data": {
      "text/html": [
       "<div>\n",
       "<style scoped>\n",
       "    .dataframe tbody tr th:only-of-type {\n",
       "        vertical-align: middle;\n",
       "    }\n",
       "\n",
       "    .dataframe tbody tr th {\n",
       "        vertical-align: top;\n",
       "    }\n",
       "\n",
       "    .dataframe thead th {\n",
       "        text-align: right;\n",
       "    }\n",
       "</style>\n",
       "<table border=\"1\" class=\"dataframe\">\n",
       "  <thead>\n",
       "    <tr style=\"text-align: right;\">\n",
       "      <th></th>\n",
       "      <th>epoch</th>\n",
       "      <th>x</th>\n",
       "    </tr>\n",
       "  </thead>\n",
       "  <tbody>\n",
       "    <tr>\n",
       "      <th>0</th>\n",
       "      <td>2014-01-01 00:00:00.000</td>\n",
       "      <td>-8855.823863</td>\n",
       "    </tr>\n",
       "    <tr>\n",
       "      <th>1</th>\n",
       "      <td>2014-01-01 00:46:43.000</td>\n",
       "      <td>-10567.672384</td>\n",
       "    </tr>\n",
       "    <tr>\n",
       "      <th>2</th>\n",
       "      <td>2014-01-01 01:33:26.001</td>\n",
       "      <td>-10578.684043</td>\n",
       "    </tr>\n",
       "    <tr>\n",
       "      <th>3</th>\n",
       "      <td>2014-01-01 02:20:09.001</td>\n",
       "      <td>-9148.251857</td>\n",
       "    </tr>\n",
       "    <tr>\n",
       "      <th>4</th>\n",
       "      <td>2014-01-01 03:06:52.002</td>\n",
       "      <td>-6719.092336</td>\n",
       "    </tr>\n",
       "  </tbody>\n",
       "</table>\n",
       "</div>"
      ],
      "text/plain": [
       "                    epoch             x\n",
       "0 2014-01-01 00:00:00.000  -8855.823863\n",
       "1 2014-01-01 00:46:43.000 -10567.672384\n",
       "2 2014-01-01 01:33:26.001 -10578.684043\n",
       "3 2014-01-01 02:20:09.001  -9148.251857\n",
       "4 2014-01-01 03:06:52.002  -6719.092336"
      ]
     },
     "execution_count": 18,
     "metadata": {},
     "output_type": "execute_result"
    }
   ],
   "source": [
    "sat0_df_univ.head()"
   ]
  },
  {
   "cell_type": "code",
   "execution_count": 19,
   "metadata": {},
   "outputs": [
    {
     "data": {
      "text/html": [
       "<div>\n",
       "<style scoped>\n",
       "    .dataframe tbody tr th:only-of-type {\n",
       "        vertical-align: middle;\n",
       "    }\n",
       "\n",
       "    .dataframe tbody tr th {\n",
       "        vertical-align: top;\n",
       "    }\n",
       "\n",
       "    .dataframe thead th {\n",
       "        text-align: right;\n",
       "    }\n",
       "</style>\n",
       "<table border=\"1\" class=\"dataframe\">\n",
       "  <thead>\n",
       "    <tr style=\"text-align: right;\">\n",
       "      <th></th>\n",
       "      <th>epoch</th>\n",
       "      <th>x</th>\n",
       "    </tr>\n",
       "  </thead>\n",
       "  <tbody>\n",
       "    <tr>\n",
       "      <th>736</th>\n",
       "      <td>2014-01-24 20:16:45.366</td>\n",
       "      <td>17323.752275</td>\n",
       "    </tr>\n",
       "    <tr>\n",
       "      <th>737</th>\n",
       "      <td>2014-01-24 21:03:28.366</td>\n",
       "      <td>16803.492692</td>\n",
       "    </tr>\n",
       "    <tr>\n",
       "      <th>738</th>\n",
       "      <td>2014-01-24 21:50:11.367</td>\n",
       "      <td>15589.464016</td>\n",
       "    </tr>\n",
       "    <tr>\n",
       "      <th>739</th>\n",
       "      <td>2014-01-24 22:36:54.367</td>\n",
       "      <td>13644.957424</td>\n",
       "    </tr>\n",
       "    <tr>\n",
       "      <th>740</th>\n",
       "      <td>2014-01-24 23:23:37.368</td>\n",
       "      <td>10951.688066</td>\n",
       "    </tr>\n",
       "  </tbody>\n",
       "</table>\n",
       "</div>"
      ],
      "text/plain": [
       "                      epoch             x\n",
       "736 2014-01-24 20:16:45.366  17323.752275\n",
       "737 2014-01-24 21:03:28.366  16803.492692\n",
       "738 2014-01-24 21:50:11.367  15589.464016\n",
       "739 2014-01-24 22:36:54.367  13644.957424\n",
       "740 2014-01-24 23:23:37.368  10951.688066"
      ]
     },
     "execution_count": 19,
     "metadata": {},
     "output_type": "execute_result"
    }
   ],
   "source": [
    "sat0_df_univ.tail()"
   ]
  },
  {
   "cell_type": "code",
   "execution_count": 20,
   "metadata": {},
   "outputs": [
    {
     "name": "stdout",
     "output_type": "stream",
     "text": [
      "<class 'pandas.core.frame.DataFrame'>\n",
      "Int64Index: 741 entries, 0 to 740\n",
      "Data columns (total 2 columns):\n",
      " #   Column  Non-Null Count  Dtype         \n",
      "---  ------  --------------  -----         \n",
      " 0   epoch   741 non-null    datetime64[ns]\n",
      " 1   x       741 non-null    float64       \n",
      "dtypes: datetime64[ns](1), float64(1)\n",
      "memory usage: 17.4 KB\n"
     ]
    }
   ],
   "source": [
    "sat0_df_univ.info()"
   ]
  },
  {
   "cell_type": "code",
   "execution_count": 21,
   "metadata": {},
   "outputs": [
    {
     "data": {
      "text/plain": [
       "Timedelta('23 days 23:23:37.368000')"
      ]
     },
     "execution_count": 21,
     "metadata": {},
     "output_type": "execute_result"
    }
   ],
   "source": [
    "sat0_df_univ['epoch'].max() - sat0_df_univ['epoch'].min()"
   ]
  },
  {
   "cell_type": "code",
   "execution_count": 22,
   "metadata": {},
   "outputs": [
    {
     "data": {
      "image/png": "[encoded data removed]",
      "text/plain": [
       "<Figure size 1280x800 with 1 Axes>"
      ]
     },
     "metadata": {
      "needs_background": "light"
     },
     "output_type": "display_data"
    }
   ],
   "source": [
    "from matplotlib.pyplot import figure\n",
    "figure(figsize=(16, 10), dpi=80)\n",
    "\n",
    "plt.plot(sat0_df_univ[\"epoch\"], sat0_df_univ[\"x\"])\n",
    "plt.xlabel(\"Time\")\n",
    "plt.ylabel(\"x co-ordinates\")\n",
    "plt.title(\"Position(x) of Satellite\")\n",
    "plt.show()"
   ]
  },
  {
   "cell_type": "code",
   "execution_count": 23,
   "metadata": {},
   "outputs": [
    {
     "data": {
      "text/plain": [
       "count      741.000000\n",
       "mean      4912.520136\n",
       "std       9851.147157\n",
       "min     -10716.106467\n",
       "25%      -5156.221079\n",
       "50%       7005.209383\n",
       "75%      15173.743957\n",
       "max      17325.111650\n",
       "Name: x, dtype: float64"
      ]
     },
     "execution_count": 23,
     "metadata": {},
     "output_type": "execute_result"
    }
   ],
   "source": [
    "x_pos = sat0_df_univ[\"x\"]\n",
    "x_pos.describe()"
   ]
  },
  {
   "cell_type": "code",
   "execution_count": 24,
   "metadata": {},
   "outputs": [],
   "source": [
    "data = x_pos"
   ]
  },
  {
   "cell_type": "code",
   "execution_count": 25,
   "metadata": {},
   "outputs": [
    {
     "data": {
      "text/plain": [
       "(741,)"
      ]
     },
     "execution_count": 25,
     "metadata": {},
     "output_type": "execute_result"
    }
   ],
   "source": [
    "data.shape"
   ]
  },
  {
   "cell_type": "code",
   "execution_count": 26,
   "metadata": {},
   "outputs": [
    {
     "data": {
      "text/plain": [
       "pandas.core.series.Series"
      ]
     },
     "execution_count": 26,
     "metadata": {},
     "output_type": "execute_result"
    }
   ],
   "source": [
    "type(data)"
   ]
  },
  {
   "cell_type": "markdown",
   "metadata": {},
   "source": [
    "# Examine stationarity of data"
   ]
  },
  {
   "cell_type": "code",
   "execution_count": 27,
   "metadata": {},
   "outputs": [],
   "source": [
    "# Dickey-Fuller Test\n",
    "from statsmodels.tsa.stattools import adfuller\n",
    "adf, pvalue, usedlag_, nobs_, critical_values_, icbest_ = adfuller(data)"
   ]
  },
  {
   "cell_type": "code",
   "execution_count": 28,
   "metadata": {},
   "outputs": [
    {
     "name": "stdout",
     "output_type": "stream",
     "text": [
      "0.002473777001334866\n"
     ]
    }
   ],
   "source": [
    "print(pvalue)"
   ]
  },
  {
   "cell_type": "markdown",
   "metadata": {},
   "source": [
    "# Autocorrelation"
   ]
  },
  {
   "cell_type": "code",
   "execution_count": 29,
   "metadata": {},
   "outputs": [
    {
     "data": {
      "text/plain": [
       "<matplotlib.axes._subplots.AxesSubplot at 0x1a707f1a808>"
      ]
     },
     "execution_count": 29,
     "metadata": {},
     "output_type": "execute_result"
    },
    {
     "data": {
      "image/png": "[encoded data removed]",
      "text/plain": [
       "<Figure size 432x288 with 1 Axes>"
      ]
     },
     "metadata": {
      "needs_background": "light"
     },
     "output_type": "display_data"
    }
   ],
   "source": [
    "from pandas.plotting import autocorrelation_plot\n",
    "autocorrelation_plot(data) "
   ]
  },
  {
   "cell_type": "code",
   "execution_count": 30,
   "metadata": {},
   "outputs": [
    {
     "data": {
      "text/plain": [
       "(741,)"
      ]
     },
     "execution_count": 30,
     "metadata": {},
     "output_type": "execute_result"
    }
   ],
   "source": [
    "data.shape"
   ]
  },
  {
   "cell_type": "code",
   "execution_count": 31,
   "metadata": {},
   "outputs": [
    {
     "data": {
      "text/plain": [
       "dtype('float64')"
      ]
     },
     "execution_count": 31,
     "metadata": {},
     "output_type": "execute_result"
    }
   ],
   "source": [
    "data.dtype"
   ]
  },
  {
   "cell_type": "code",
   "execution_count": 32,
   "metadata": {},
   "outputs": [
    {
     "data": {
      "text/plain": [
       "pandas.core.series.Series"
      ]
     },
     "execution_count": 32,
     "metadata": {},
     "output_type": "execute_result"
    }
   ],
   "source": [
    "type(data)"
   ]
  },
  {
   "cell_type": "markdown",
   "metadata": {},
   "source": [
    "# Forecasting using ARIMA"
   ]
  },
  {
   "cell_type": "code",
   "execution_count": 33,
   "metadata": {},
   "outputs": [
    {
     "name": "stdout",
     "output_type": "stream",
     "text": [
      "Requirement already satisfied: pmdarima in c:\\users\\adity\\anaconda3\\envs\\tf\\lib\\site-packages (1.8.4)\n",
      "Requirement already satisfied: urllib3 in c:\\users\\adity\\anaconda3\\envs\\tf\\lib\\site-packages (from pmdarima) (1.25.9)\n",
      "Requirement already satisfied: Cython!=0.29.18,>=0.29 in c:\\users\\adity\\anaconda3\\envs\\tf\\lib\\site-packages (from pmdarima) (0.29.21)\n",
      "Requirement already satisfied: scipy>=1.3.2 in c:\\users\\adity\\anaconda3\\envs\\tf\\lib\\site-packages (from pmdarima) (1.4.1)\n",
      "Requirement already satisfied: pandas>=0.19 in c:\\users\\adity\\anaconda3\\envs\\tf\\lib\\site-packages (from pmdarima) (1.0.5)"
     ]
    },
    {
     "name": "stderr",
     "output_type": "stream",
     "text": [
      "WARNING: Ignoring invalid distribution -umpy (c:\\users\\adity\\anaconda3\\envs\\tf\\lib\\site-packages)\n",
      "WARNING: Ignoring invalid distribution -ensorflow (c:\\users\\adity\\anaconda3\\envs\\tf\\lib\\site-packages)\n",
      "WARNING: Ignoring invalid distribution -umpy (c:\\users\\adity\\anaconda3\\envs\\tf\\lib\\site-packages)\n",
      "WARNING: Ignoring invalid distribution -ensorflow (c:\\users\\adity\\anaconda3\\envs\\tf\\lib\\site-packages)\n",
      "WARNING: Ignoring invalid distribution -umpy (c:\\users\\adity\\anaconda3\\envs\\tf\\lib\\site-packages)\n",
      "WARNING: Ignoring invalid distribution -ensorflow (c:\\users\\adity\\anaconda3\\envs\\tf\\lib\\site-packages)\n",
      "WARNING: Ignoring invalid distribution -umpy (c:\\users\\adity\\anaconda3\\envs\\tf\\lib\\site-packages)\n",
      "WARNING: Ignoring invalid distribution -ensorflow (c:\\users\\adity\\anaconda3\\envs\\tf\\lib\\site-packages)"
     ]
    },
    {
     "name": "stdout",
     "output_type": "stream",
     "text": [
      "\n",
      "Requirement already satisfied: statsmodels!=0.12.0,>=0.11 in c:\\users\\adity\\anaconda3\\envs\\tf\\lib\\site-packages (from pmdarima) (0.13.1)\n",
      "Requirement already satisfied: numpy>=1.19.3 in c:\\users\\adity\\anaconda3\\envs\\tf\\lib\\site-packages (from pmdarima) (1.19.5)\n",
      "Requirement already satisfied: setuptools!=50.0.0,>=38.6.0 in c:\\users\\adity\\anaconda3\\envs\\tf\\lib\\site-packages (from pmdarima) (49.2.0.post20200714)\n",
      "Requirement already satisfied: joblib>=0.11 in c:\\users\\adity\\anaconda3\\envs\\tf\\lib\\site-packages (from pmdarima) (0.16.0)\n",
      "Requirement already satisfied: scikit-learn>=0.22 in c:\\users\\adity\\anaconda3\\envs\\tf\\lib\\site-packages (from pmdarima) (0.23.1)\n",
      "Requirement already satisfied: python-dateutil>=2.6.1 in c:\\users\\adity\\anaconda3\\envs\\tf\\lib\\site-packages (from pandas>=0.19->pmdarima) (2.8.1)\n",
      "Requirement already satisfied: pytz>=2017.2 in c:\\users\\adity\\anaconda3\\envs\\tf\\lib\\site-packages (from pandas>=0.19->pmdarima) (2020.1)\n",
      "Requirement already satisfied: threadpoolctl>=2.0.0 in c:\\users\\adity\\anaconda3\\envs\\tf\\lib\\site-packages (from scikit-learn>=0.22->pmdarima) (2.1.0)\n",
      "Requirement already satisfied: patsy>=0.5.2 in c:\\users\\adity\\anaconda3\\envs\\tf\\lib\\site-packages (from statsmodels!=0.12.0,>=0.11->pmdarima) (0.5.2)\n",
      "Requirement already satisfied: six in c:\\users\\adity\\anaconda3\\envs\\tf\\lib\\site-packages (from patsy>=0.5.2->statsmodels!=0.12.0,>=0.11->pmdarima) (1.15.0)\n"
     ]
    },
    {
     "name": "stderr",
     "output_type": "stream",
     "text": [
      "\n",
      "WARNING: Ignoring invalid distribution -umpy (c:\\users\\adity\\anaconda3\\envs\\tf\\lib\\site-packages)\n",
      "WARNING: Ignoring invalid distribution -ensorflow (c:\\users\\adity\\anaconda3\\envs\\tf\\lib\\site-packages)\n"
     ]
    }
   ],
   "source": [
    "!pip install pmdarima"
   ]
  },
  {
   "cell_type": "code",
   "execution_count": 34,
   "metadata": {},
   "outputs": [],
   "source": [
    "from pmdarima.arima import auto_arima"
   ]
  },
  {
   "cell_type": "code",
   "execution_count": 35,
   "metadata": {},
   "outputs": [],
   "source": [
    "#Autoarima gives us best model suited for the data\n",
    "# p - number of autoregressive terms (AR)\n",
    "# q - Number of moving avergae terms (MA)\n",
    "# d - number of non-seasonal differences\n",
    "#p, d, q represent non-seasonal components\n",
    "#P, D, Q represent seasonal components"
   ]
  },
  {
   "cell_type": "code",
   "execution_count": 36,
   "metadata": {},
   "outputs": [
    {
     "data": {
      "text/plain": [
       "pandas.core.series.Series"
      ]
     },
     "execution_count": 36,
     "metadata": {},
     "output_type": "execute_result"
    }
   ],
   "source": [
    "type(data)"
   ]
  },
  {
   "cell_type": "code",
   "execution_count": 37,
   "metadata": {},
   "outputs": [
    {
     "name": "stdout",
     "output_type": "stream",
     "text": [
      "Performing stepwise search to minimize aic\n",
      " ARIMA(1,1,1)(0,1,0)[12]             : AIC=inf, Time=1.23 sec\n",
      " ARIMA(0,1,0)(0,1,0)[12]             : AIC=14492.621, Time=0.06 sec\n",
      " ARIMA(1,1,0)(1,1,0)[12]             : AIC=inf, Time=nan sec\n",
      " ARIMA(0,1,1)(0,1,1)[12]             : AIC=inf, Time=3.84 sec\n",
      " ARIMA(0,1,0)(1,1,0)[12]             : AIC=inf, Time=0.32 sec\n",
      " ARIMA(0,1,0)(0,1,1)[12]             : AIC=inf, Time=1.59 sec\n",
      " ARIMA(0,1,0)(1,1,1)[12]             : AIC=9338.871, Time=2.62 sec\n",
      " ARIMA(0,1,0)(2,1,1)[12]             : AIC=9340.651, Time=4.06 sec\n",
      " ARIMA(0,1,0)(1,1,2)[12]             : AIC=9340.634, Time=5.87 sec\n",
      " ARIMA(0,1,0)(0,1,2)[12]             : AIC=inf, Time=6.03 sec\n",
      " ARIMA(0,1,0)(2,1,0)[12]             : AIC=inf, Time=3.01 sec\n",
      " ARIMA(0,1,0)(2,1,2)[12]             : AIC=inf, Time=7.12 sec\n",
      " ARIMA(1,1,0)(1,1,1)[12]             : AIC=8722.161, Time=5.91 sec\n",
      " ARIMA(1,1,0)(0,1,1)[12]             : AIC=inf, Time=2.91 sec\n",
      " ARIMA(1,1,0)(2,1,1)[12]             : AIC=inf, Time=58.76 sec\n",
      " ARIMA(1,1,0)(1,1,2)[12]             : AIC=8643.689, Time=15.92 sec\n",
      " ARIMA(1,1,0)(0,1,2)[12]             : AIC=inf, Time=9.81 sec\n",
      " ARIMA(1,1,0)(2,1,2)[12]             : AIC=inf, Time=30.67 sec\n",
      " ARIMA(1,1,0)(1,1,3)[12]             : AIC=8652.856, Time=38.59 sec\n",
      " ARIMA(1,1,0)(0,1,3)[12]             : AIC=inf, Time=20.22 sec\n",
      " ARIMA(1,1,0)(2,1,3)[12]             : AIC=inf, Time=nan sec\n",
      " ARIMA(2,1,0)(1,1,2)[12]             : AIC=8515.880, Time=20.60 sec\n",
      " ARIMA(2,1,0)(0,1,2)[12]             : AIC=9137.539, Time=7.65 sec\n",
      " ARIMA(2,1,0)(1,1,1)[12]             : AIC=8654.712, Time=5.83 sec\n",
      " ARIMA(2,1,0)(2,1,2)[12]             : AIC=inf, Time=22.92 sec\n",
      " ARIMA(2,1,0)(1,1,3)[12]             : AIC=8517.913, Time=37.64 sec\n",
      " ARIMA(2,1,0)(0,1,1)[12]             : AIC=inf, Time=2.65 sec\n",
      " ARIMA(2,1,0)(0,1,3)[12]             : AIC=inf, Time=31.07 sec\n",
      " ARIMA(2,1,0)(2,1,1)[12]             : AIC=inf, Time=21.86 sec\n",
      " ARIMA(2,1,0)(2,1,3)[12]             : AIC=inf, Time=42.54 sec\n",
      " ARIMA(3,1,0)(1,1,2)[12]             : AIC=8503.265, Time=17.60 sec\n",
      " ARIMA(3,1,0)(0,1,2)[12]             : AIC=9131.881, Time=10.43 sec\n",
      " ARIMA(3,1,0)(1,1,1)[12]             : AIC=8649.517, Time=6.48 sec\n",
      " ARIMA(3,1,0)(2,1,2)[12]             : AIC=inf, Time=26.55 sec\n",
      " ARIMA(3,1,0)(1,1,3)[12]             : AIC=8505.273, Time=42.21 sec\n",
      " ARIMA(3,1,0)(0,1,1)[12]             : AIC=inf, Time=5.85 sec\n",
      " ARIMA(3,1,0)(0,1,3)[12]             : AIC=inf, Time=32.61 sec\n",
      " ARIMA(3,1,0)(2,1,1)[12]             : AIC=inf, Time=20.65 sec\n",
      " ARIMA(3,1,0)(2,1,3)[12]             : AIC=inf, Time=43.34 sec\n",
      " ARIMA(4,1,0)(1,1,2)[12]             : AIC=8502.075, Time=20.38 sec\n",
      " ARIMA(4,1,0)(0,1,2)[12]             : AIC=9131.222, Time=13.99 sec\n",
      " ARIMA(4,1,0)(1,1,1)[12]             : AIC=8665.864, Time=8.08 sec\n",
      " ARIMA(4,1,0)(2,1,2)[12]             : AIC=inf, Time=35.19 sec\n",
      " ARIMA(4,1,0)(1,1,3)[12]             : AIC=8504.092, Time=46.24 sec\n",
      " ARIMA(4,1,0)(0,1,1)[12]             : AIC=inf, Time=5.32 sec\n",
      " ARIMA(4,1,0)(0,1,3)[12]             : AIC=inf, Time=31.09 sec\n",
      " ARIMA(4,1,0)(2,1,1)[12]             : AIC=inf, Time=29.36 sec\n",
      " ARIMA(4,1,0)(2,1,3)[12]             : AIC=inf, Time=48.88 sec\n",
      " ARIMA(5,1,0)(1,1,2)[12]             : AIC=18.000, Time=10.83 sec\n",
      " ARIMA(5,1,0)(0,1,2)[12]             : AIC=9049.691, Time=14.01 sec\n",
      " ARIMA(5,1,0)(1,1,1)[12]             : AIC=8665.076, Time=8.31 sec\n",
      " ARIMA(5,1,0)(2,1,2)[12]             : AIC=inf, Time=32.15 sec\n",
      " ARIMA(5,1,0)(1,1,3)[12]             : AIC=8503.652, Time=44.55 sec\n",
      " ARIMA(5,1,0)(0,1,1)[12]             : AIC=inf, Time=5.96 sec\n",
      " ARIMA(5,1,0)(0,1,3)[12]             : AIC=inf, Time=45.05 sec\n",
      " ARIMA(5,1,0)(2,1,1)[12]             : AIC=inf, Time=28.34 sec\n",
      " ARIMA(5,1,0)(2,1,3)[12]             : AIC=inf, Time=50.44 sec\n",
      " ARIMA(5,1,1)(1,1,2)[12]             : AIC=8390.784, Time=33.03 sec\n",
      " ARIMA(4,1,1)(1,1,2)[12]             : AIC=inf, Time=31.54 sec\n",
      " ARIMA(5,1,0)(1,1,2)[12] intercept   : AIC=inf, Time=nan sec\n",
      "\n",
      "Best model:  ARIMA(5,1,0)(1,1,2)[12]          \n",
      "Total fit time: 1214.426 seconds\n"
     ]
    }
   ],
   "source": [
    "arima_model = auto_arima(data, start_p = 1, d=1, start_q = 1, \n",
    "                          max_p = 5, max_q = 5, max_d=5, m = 12, \n",
    "                          start_P = 0, D=1, start_Q=0, max_P=5, max_D=5, max_Q=5,\n",
    "                          seasonal = True, \n",
    "                          trace = True, \n",
    "                          error_action ='ignore',   \n",
    "                          suppress_warnings = True,  \n",
    "                          stepwise = True, n_fits=50)          "
   ]
  },
  {
   "cell_type": "code",
   "execution_count": 38,
   "metadata": {},
   "outputs": [
    {
     "name": "stdout",
     "output_type": "stream",
     "text": [
      "                                        SARIMAX Results                                        \n",
      "===============================================================================================\n",
      "Dep. Variable:                                       y   No. Observations:                  741\n",
      "Model:             SARIMAX(5, 1, 0)x(1, 1, [1, 2], 12)   Log Likelihood                   0.000\n",
      "Date:                                 Mon, 10 Jan 2022   AIC                             18.000\n",
      "Time:                                         18:33:23   BIC                             59.313\n",
      "Sample:                                              0   HQIC                            33.941\n",
      "                                                 - 741                                         \n",
      "Covariance Type:                                   opg                                         \n",
      "==============================================================================\n",
      "                 coef    std err          z      P>|z|      [0.025      0.975]\n",
      "------------------------------------------------------------------------------\n",
      "ar.L1          2.7908         -0       -inf      0.000       2.791       2.791\n",
      "ar.L2         -1.7292   3.29e-08  -5.26e+07      0.000      -1.729      -1.729\n",
      "ar.L3         -1.8542         -0        inf      0.000      -1.854      -1.854\n",
      "ar.L4          2.7292         -0       -inf      0.000       2.729       2.729\n",
      "ar.L5         -0.9366         -0        inf      0.000      -0.937      -0.937\n",
      "ar.S.L12       0.9962   1.96e-08   5.08e+07      0.000       0.996       0.996\n",
      "ma.S.L12      -1.1482         -0        inf      0.000      -1.148      -1.148\n",
      "ma.S.L24       0.3638   1.55e-08   2.34e+07      0.000       0.364       0.364\n",
      "sigma2      1.953e+04         -0       -inf      0.000    1.95e+04    1.95e+04\n",
      "===================================================================================\n",
      "Ljung-Box (L1) (Q):                    nan   Jarque-Bera (JB):               273.00\n",
      "Prob(Q):                               nan   Prob(JB):                         0.00\n",
      "Heteroskedasticity (H):                nan   Skew:                             0.00\n",
      "Prob(H) (two-sided):                   nan   Kurtosis:                         0.00\n",
      "===================================================================================\n",
      "\n",
      "Warnings:\n",
      "[1] Covariance matrix calculated using the outer product of gradients (complex-step).\n",
      "[2] Covariance matrix is singular or near-singular, with condition number    inf. Standard errors may be unstable.\n"
     ]
    },
    {
     "name": "stderr",
     "output_type": "stream",
     "text": [
      "C:\\Users\\adity\\anaconda3\\envs\\tf\\lib\\site-packages\\statsmodels\\tsa\\statespace\\mlemodel.py:2968: RuntimeWarning: divide by zero encountered in true_divide\n",
      "  return self.params / self.bse\n",
      "C:\\Users\\adity\\anaconda3\\envs\\tf\\lib\\site-packages\\statsmodels\\tsa\\stattools.py:1339: RuntimeWarning: invalid value encountered in true_divide\n",
      "  test_statistic = numer_squared_sum / denom_squared_sum\n",
      "C:\\Users\\adity\\anaconda3\\envs\\tf\\lib\\site-packages\\statsmodels\\tsa\\stattools.py:677: RuntimeWarning: invalid value encountered in true_divide\n",
      "  acf = avf[: nlags + 1] / avf[0]\n"
     ]
    }
   ],
   "source": [
    "# To print the summary \n",
    "print(arima_model.summary() ) #Note down the Model and details.\n"
   ]
  },
  {
   "cell_type": "code",
   "execution_count": 39,
   "metadata": {},
   "outputs": [],
   "source": [
    "train_len = 521\n",
    "test_len = 220"
   ]
  },
  {
   "cell_type": "code",
   "execution_count": 40,
   "metadata": {},
   "outputs": [],
   "source": [
    "data_np = np.array(data)"
   ]
  },
  {
   "cell_type": "code",
   "execution_count": 41,
   "metadata": {},
   "outputs": [],
   "source": [
    "X_train = data_np[:train_len]\n",
    "X_test = data_np[train_len:] "
   ]
  },
  {
   "cell_type": "code",
   "execution_count": 42,
   "metadata": {},
   "outputs": [
    {
     "name": "stdout",
     "output_type": "stream",
     "text": [
      "521 220\n",
      "(521,) (220,)\n"
     ]
    }
   ],
   "source": [
    "print(len(X_train), len(X_test))\n",
    "print(X_train.shape, X_test.shape)"
   ]
  },
  {
   "cell_type": "code",
   "execution_count": 43,
   "metadata": {},
   "outputs": [],
   "source": [
    "# Fit a SARIMAX(5, 1, 0)x(1, 1, [1, 2], 12)  on the training set "
   ]
  },
  {
   "cell_type": "code",
   "execution_count": 44,
   "metadata": {},
   "outputs": [],
   "source": [
    "from statsmodels.tsa.statespace.sarimax import SARIMAX "
   ]
  },
  {
   "cell_type": "code",
   "execution_count": 45,
   "metadata": {},
   "outputs": [],
   "source": [
    "model = SARIMAX(X_train,  \n",
    "                order = (5, 1, 0),\n",
    "                seasonal_order = (1, 1, [1, 2], 12) \n",
    "                )\n",
    "  "
   ]
  },
  {
   "cell_type": "code",
   "execution_count": 46,
   "metadata": {},
   "outputs": [
    {
     "name": "stderr",
     "output_type": "stream",
     "text": [
      "C:\\Users\\adity\\anaconda3\\envs\\tf\\lib\\site-packages\\statsmodels\\base\\model.py:606: ConvergenceWarning: Maximum Likelihood optimization failed to converge. Check mle_retvals\n",
      "  ConvergenceWarning)\n"
     ]
    }
   ],
   "source": [
    "result = model.fit() "
   ]
  },
  {
   "cell_type": "code",
   "execution_count": 47,
   "metadata": {},
   "outputs": [
    {
     "data": {
      "text/html": [
       "<table class=\"simpletable\">\n",
       "<caption>SARIMAX Results</caption>\n",
       "<tr>\n",
       "  <th>Dep. Variable:</th>                    <td>y</td>                  <th>  No. Observations:  </th>    <td>521</td>   \n",
       "</tr>\n",
       "<tr>\n",
       "  <th>Model:</th>           <td>SARIMAX(5, 1, 0)x(1, 1, [1, 2], 12)</td> <th>  Log Likelihood     </th> <td>-3066.665</td>\n",
       "</tr>\n",
       "<tr>\n",
       "  <th>Date:</th>                     <td>Mon, 10 Jan 2022</td>           <th>  AIC                </th> <td>6151.329</td> \n",
       "</tr>\n",
       "<tr>\n",
       "  <th>Time:</th>                         <td>18:35:12</td>               <th>  BIC                </th> <td>6189.404</td> \n",
       "</tr>\n",
       "<tr>\n",
       "  <th>Sample:</th>                           <td>0</td>                  <th>  HQIC               </th> <td>6166.260</td> \n",
       "</tr>\n",
       "<tr>\n",
       "  <th></th>                               <td> - 521</td>                <th>                     </th>     <td> </td>    \n",
       "</tr>\n",
       "<tr>\n",
       "  <th>Covariance Type:</th>                 <td>opg</td>                 <th>                     </th>     <td> </td>    \n",
       "</tr>\n",
       "</table>\n",
       "<table class=\"simpletable\">\n",
       "<tr>\n",
       "      <td></td>        <th>coef</th>     <th>std err</th>      <th>z</th>      <th>P>|z|</th>  <th>[0.025</th>    <th>0.975]</th>  \n",
       "</tr>\n",
       "<tr>\n",
       "  <th>ar.L1</th>    <td>    1.2206</td> <td>    0.009</td> <td>  133.005</td> <td> 0.000</td> <td>    1.203</td> <td>    1.239</td>\n",
       "</tr>\n",
       "<tr>\n",
       "  <th>ar.L2</th>    <td>   -0.3145</td> <td>    0.027</td> <td>  -11.509</td> <td> 0.000</td> <td>   -0.368</td> <td>   -0.261</td>\n",
       "</tr>\n",
       "<tr>\n",
       "  <th>ar.L3</th>    <td>   -0.0823</td> <td>    0.068</td> <td>   -1.203</td> <td> 0.229</td> <td>   -0.216</td> <td>    0.052</td>\n",
       "</tr>\n",
       "<tr>\n",
       "  <th>ar.L4</th>    <td>    0.0190</td> <td>    0.101</td> <td>    0.189</td> <td> 0.850</td> <td>   -0.178</td> <td>    0.216</td>\n",
       "</tr>\n",
       "<tr>\n",
       "  <th>ar.L5</th>    <td>   -0.0725</td> <td>    0.057</td> <td>   -1.263</td> <td> 0.207</td> <td>   -0.185</td> <td>    0.040</td>\n",
       "</tr>\n",
       "<tr>\n",
       "  <th>ar.S.L12</th> <td>   -0.9969</td> <td>    0.001</td> <td> -770.602</td> <td> 0.000</td> <td>   -0.999</td> <td>   -0.994</td>\n",
       "</tr>\n",
       "<tr>\n",
       "  <th>ma.S.L12</th> <td>   -0.0731</td> <td>    0.054</td> <td>   -1.364</td> <td> 0.173</td> <td>   -0.178</td> <td>    0.032</td>\n",
       "</tr>\n",
       "<tr>\n",
       "  <th>ma.S.L24</th> <td>   -0.5515</td> <td>    0.016</td> <td>  -35.293</td> <td> 0.000</td> <td>   -0.582</td> <td>   -0.521</td>\n",
       "</tr>\n",
       "<tr>\n",
       "  <th>sigma2</th>   <td> 8458.2175</td> <td>   75.205</td> <td>  112.468</td> <td> 0.000</td> <td> 8310.818</td> <td> 8605.617</td>\n",
       "</tr>\n",
       "</table>\n",
       "<table class=\"simpletable\">\n",
       "<tr>\n",
       "  <th>Ljung-Box (L1) (Q):</th>     <td>1.60</td> <th>  Jarque-Bera (JB):  </th> <td>176460.84</td>\n",
       "</tr>\n",
       "<tr>\n",
       "  <th>Prob(Q):</th>                <td>0.21</td> <th>  Prob(JB):          </th>   <td>0.00</td>   \n",
       "</tr>\n",
       "<tr>\n",
       "  <th>Heteroskedasticity (H):</th> <td>0.11</td> <th>  Skew:              </th>   <td>-4.62</td>  \n",
       "</tr>\n",
       "<tr>\n",
       "  <th>Prob(H) (two-sided):</th>    <td>0.00</td> <th>  Kurtosis:          </th>   <td>93.84</td>  \n",
       "</tr>\n",
       "</table><br/><br/>Warnings:<br/>[1] Covariance matrix calculated using the outer product of gradients (complex-step)."
      ],
      "text/plain": [
       "<class 'statsmodels.iolib.summary.Summary'>\n",
       "\"\"\"\n",
       "                                        SARIMAX Results                                        \n",
       "===============================================================================================\n",
       "Dep. Variable:                                       y   No. Observations:                  521\n",
       "Model:             SARIMAX(5, 1, 0)x(1, 1, [1, 2], 12)   Log Likelihood               -3066.665\n",
       "Date:                                 Mon, 10 Jan 2022   AIC                           6151.329\n",
       "Time:                                         18:35:12   BIC                           6189.404\n",
       "Sample:                                              0   HQIC                          6166.260\n",
       "                                                 - 521                                         \n",
       "Covariance Type:                                   opg                                         \n",
       "==============================================================================\n",
       "                 coef    std err          z      P>|z|      [0.025      0.975]\n",
       "------------------------------------------------------------------------------\n",
       "ar.L1          1.2206      0.009    133.005      0.000       1.203       1.239\n",
       "ar.L2         -0.3145      0.027    -11.509      0.000      -0.368      -0.261\n",
       "ar.L3         -0.0823      0.068     -1.203      0.229      -0.216       0.052\n",
       "ar.L4          0.0190      0.101      0.189      0.850      -0.178       0.216\n",
       "ar.L5         -0.0725      0.057     -1.263      0.207      -0.185       0.040\n",
       "ar.S.L12      -0.9969      0.001   -770.602      0.000      -0.999      -0.994\n",
       "ma.S.L12      -0.0731      0.054     -1.364      0.173      -0.178       0.032\n",
       "ma.S.L24      -0.5515      0.016    -35.293      0.000      -0.582      -0.521\n",
       "sigma2      8458.2175     75.205    112.468      0.000    8310.818    8605.617\n",
       "===================================================================================\n",
       "Ljung-Box (L1) (Q):                   1.60   Jarque-Bera (JB):            176460.84\n",
       "Prob(Q):                              0.21   Prob(JB):                         0.00\n",
       "Heteroskedasticity (H):               0.11   Skew:                            -4.62\n",
       "Prob(H) (two-sided):                  0.00   Kurtosis:                        93.84\n",
       "===================================================================================\n",
       "\n",
       "Warnings:\n",
       "[1] Covariance matrix calculated using the outer product of gradients (complex-step).\n",
       "\"\"\""
      ]
     },
     "execution_count": 47,
     "metadata": {},
     "output_type": "execute_result"
    }
   ],
   "source": [
    "result.summary() "
   ]
  },
  {
   "cell_type": "code",
   "execution_count": 48,
   "metadata": {},
   "outputs": [],
   "source": [
    "#Train prediction\n",
    "start_index = 0\n",
    "end_index = len(X_train)-1\n",
    "train_prediction = result.predict(start_index, end_index) "
   ]
  },
  {
   "cell_type": "code",
   "execution_count": 49,
   "metadata": {},
   "outputs": [],
   "source": [
    "#Prediction\n",
    "start_index = len(X_train)\n",
    "end_index = len(data)-1\n",
    "prediction = result.predict(start_index, end_index)"
   ]
  },
  {
   "cell_type": "code",
   "execution_count": 50,
   "metadata": {},
   "outputs": [
    {
     "data": {
      "text/plain": [
       "[<matplotlib.lines.Line2D at 0x1a8f8c53748>]"
      ]
     },
     "execution_count": 50,
     "metadata": {},
     "output_type": "execute_result"
    },
    {
     "data": {
      "image/png": "[encoded data removed]",
      "text/plain": [
       "<Figure size 432x288 with 1 Axes>"
      ]
     },
     "metadata": {
      "needs_background": "light"
     },
     "output_type": "display_data"
    }
   ],
   "source": [
    "plt.plot(prediction)\n",
    "plt.plot(X_test)"
   ]
  },
  {
   "cell_type": "code",
   "execution_count": 51,
   "metadata": {},
   "outputs": [
    {
     "name": "stdout",
     "output_type": "stream",
     "text": [
      "Train Score: 513.90 RMSE\n",
      "Test Score: 480.68 RMSE\n"
     ]
    }
   ],
   "source": [
    "import math\n",
    "from sklearn.metrics import mean_squared_error\n",
    "# calculate root mean squared error\n",
    "trainScore = math.sqrt(mean_squared_error(X_train, train_prediction))\n",
    "print('Train Score: %.2f RMSE' % (trainScore))\n",
    "testScore = math.sqrt(mean_squared_error(X_test, prediction))\n",
    "print('Test Score: %.2f RMSE' % (testScore))\n"
   ]
  },
  {
   "cell_type": "code",
   "execution_count": 55,
   "metadata": {},
   "outputs": [
    {
     "name": "stderr",
     "output_type": "stream",
     "text": [
      "C:\\Users\\adity\\anaconda3\\envs\\tf\\lib\\site-packages\\ipykernel_launcher.py:12: MatplotlibDeprecationWarning: Unrecognized location 'Left corner'. Falling back on 'best'; valid locations are\n",
      "\tbest\n",
      "\tupper right\n",
      "\tupper left\n",
      "\tlower left\n",
      "\tlower right\n",
      "\tright\n",
      "\tcenter left\n",
      "\tcenter right\n",
      "\tlower center\n",
      "\tupper center\n",
      "\tcenter\n",
      "This will raise an exception in 3.3.\n",
      "  if sys.path[0] == '':\n"
     ]
    },
    {
     "data": {
      "image/png": "[encoded data removed]",
      "text/plain": [
       "<Figure size 864x576 with 1 Axes>"
      ]
     },
     "metadata": {
      "needs_background": "light"
     },
     "output_type": "display_data"
    }
   ],
   "source": [
    "forecast = result.predict(start = len(data),  \n",
    "                          end = (len(data)-1) + 300,  \n",
    "                          typ = 'levels') \n",
    "  \n",
    "plt.figure(figsize=(12,8))\n",
    "#plt.plot(X_train, label='Training', color='green')\n",
    "\n",
    "plt.plot(X_test, label='Actual', color='yellow')\n",
    "plt.plot(forecast, label='Forecast', color='cyan')\n",
    "plt.xlabel(\"No. of observations\")\n",
    "plt.ylabel(\"Postion (x-coordinates)\")\n",
    "plt.legend(loc='Left corner')\n",
    "plt.show()"
   ]
  },
  {
   "cell_type": "code",
   "execution_count": null,
   "metadata": {},
   "outputs": [],
   "source": []
  }
 ],
 "metadata": {
  "kernelspec": {
   "display_name": "Python 3",
   "language": "python",
   "name": "python3"
  },
  "language_info": {
   "codemirror_mode": {
    "name": "ipython",
    "version": 3
   },
   "file_extension": ".py",
   "mimetype": "text/x-python",
   "name": "python",
   "nbconvert_exporter": "python",
   "pygments_lexer": "ipython3",
   "version": "3.7.7"
  }
 },
 "nbformat": 4,
 "nbformat_minor": 4
}
